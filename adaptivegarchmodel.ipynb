{
  "nbformat": 4,
  "nbformat_minor": 0,
  "metadata": {
    "colab": {
      "provenance": [],
      "authorship_tag": "ABX9TyOwz+0fXenkqNg6PL+MKsNs",
      "include_colab_link": true
    },
    "kernelspec": {
      "name": "python3",
      "display_name": "Python 3"
    },
    "language_info": {
      "name": "python"
    }
  },
  "cells": [
    {
      "cell_type": "markdown",
      "metadata": {
        "id": "view-in-github",
        "colab_type": "text"
      },
      "source": [
        "<a href=\"https://colab.research.google.com/github/dgiri4132/adaptivegarchmodel/blob/main/adaptivegarchmodel.ipynb\" target=\"_parent\"><img src=\"https://colab.research.google.com/assets/colab-badge.svg\" alt=\"Open In Colab\"/></a>"
      ]
    },
    {
      "cell_type": "code",
      "execution_count": null,
      "metadata": {
        "id": "AziRpBN7R56r"
      },
      "outputs": [],
      "source": [
        "import yfinance as yf\n",
        "import pandas as pd\n",
        "tickers=[t.upper() for t in input('Enter Stocks tickers(separated by space like aapl msft tsla):').split()]\n",
        "start_date=input('Enter the start date in yyyy-mm-dd format:')\n",
        "end_date=input('Enter the end date in yyyy-mm-dd format:')\n",
        "forecast_horizon=int(input('Enter number of days ahead that you want the projection: '))\n",
        "price_data=yf.download(tickers,start_date,end_date,auto_adjust=False)['Adj Close']\n",
        "return_data=price_data.pct_change().dropna()\n"
      ]
    }
  ]
}