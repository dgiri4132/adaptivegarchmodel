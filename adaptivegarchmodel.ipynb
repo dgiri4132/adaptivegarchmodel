{
  "nbformat": 4,
  "nbformat_minor": 0,
  "metadata": {
    "colab": {
      "provenance": [],
      "authorship_tag": "ABX9TyPbgDWvKWy25P/I0sHPOfC+",
      "include_colab_link": true
    },
    "kernelspec": {
      "name": "python3",
      "display_name": "Python 3"
    },
    "language_info": {
      "name": "python"
    }
  },
  "cells": [
    {
      "cell_type": "markdown",
      "metadata": {
        "id": "view-in-github",
        "colab_type": "text"
      },
      "source": [
        "<a href=\"https://colab.research.google.com/github/dgiri4132/adaptivegarchmodel/blob/main/adaptivegarchmodel.ipynb\" target=\"_parent\"><img src=\"https://colab.research.google.com/assets/colab-badge.svg\" alt=\"Open In Colab\"/></a>"
      ]
    },
    {
      "cell_type": "code",
      "source": [
        "!pip install arch\n"
      ],
      "metadata": {
        "colab": {
          "base_uri": "https://localhost:8080/"
        },
        "id": "h_DtkrvKz5pz",
        "outputId": "410a965b-7a70-4ecf-cdca-52ef073daf8c"
      },
      "execution_count": 1,
      "outputs": [
        {
          "output_type": "stream",
          "name": "stdout",
          "text": [
            "Collecting arch\n",
            "  Downloading arch-7.2.0-cp311-cp311-manylinux_2_17_x86_64.manylinux2014_x86_64.whl.metadata (13 kB)\n",
            "Requirement already satisfied: numpy>=1.22.3 in /usr/local/lib/python3.11/dist-packages (from arch) (2.0.2)\n",
            "Requirement already satisfied: scipy>=1.8 in /usr/local/lib/python3.11/dist-packages (from arch) (1.15.3)\n",
            "Requirement already satisfied: pandas>=1.4 in /usr/local/lib/python3.11/dist-packages (from arch) (2.2.2)\n",
            "Requirement already satisfied: statsmodels>=0.12 in /usr/local/lib/python3.11/dist-packages (from arch) (0.14.5)\n",
            "Requirement already satisfied: python-dateutil>=2.8.2 in /usr/local/lib/python3.11/dist-packages (from pandas>=1.4->arch) (2.9.0.post0)\n",
            "Requirement already satisfied: pytz>=2020.1 in /usr/local/lib/python3.11/dist-packages (from pandas>=1.4->arch) (2025.2)\n",
            "Requirement already satisfied: tzdata>=2022.7 in /usr/local/lib/python3.11/dist-packages (from pandas>=1.4->arch) (2025.2)\n",
            "Requirement already satisfied: patsy>=0.5.6 in /usr/local/lib/python3.11/dist-packages (from statsmodels>=0.12->arch) (1.0.1)\n",
            "Requirement already satisfied: packaging>=21.3 in /usr/local/lib/python3.11/dist-packages (from statsmodels>=0.12->arch) (25.0)\n",
            "Requirement already satisfied: six>=1.5 in /usr/local/lib/python3.11/dist-packages (from python-dateutil>=2.8.2->pandas>=1.4->arch) (1.17.0)\n",
            "Downloading arch-7.2.0-cp311-cp311-manylinux_2_17_x86_64.manylinux2014_x86_64.whl (985 kB)\n",
            "\u001b[2K   \u001b[90m━━━━━━━━━━━━━━━━━━━━━━━━━━━━━━━━━━━━━━━━\u001b[0m \u001b[32m985.3/985.3 kB\u001b[0m \u001b[31m14.6 MB/s\u001b[0m eta \u001b[36m0:00:00\u001b[0m\n",
            "\u001b[?25hInstalling collected packages: arch\n",
            "Successfully installed arch-7.2.0\n"
          ]
        }
      ]
    },
    {
      "cell_type": "code",
      "execution_count": 32,
      "metadata": {
        "id": "AziRpBN7R56r",
        "colab": {
          "base_uri": "https://localhost:8080/"
        },
        "outputId": "8712cd3b-6545-4a54-b963-d596b66f6393"
      },
      "outputs": [
        {
          "name": "stdout",
          "output_type": "stream",
          "text": [
            "Enter Stocks tickers(separated by space like aapl msft tsla):aapl jnj jpm amzn goog ups pg xom\n",
            "Enter the start date in yyyy-mm-dd format:2024-01-01\n",
            "Enter the end date in yyyy-mm-dd format:2025-05-01\n",
            "Enter number of days ahead that you want the projection: 15\n"
          ]
        },
        {
          "output_type": "stream",
          "name": "stderr",
          "text": [
            "[*********************100%***********************]  8 of 8 completed\n",
            "[*********************100%***********************]  1 of 1 completed\n"
          ]
        }
      ],
      "source": [
        "import yfinance as yf\n",
        "import pandas as pd\n",
        "tickers=[t.upper() for t in input('Enter Stocks tickers(separated by space like aapl msft tsla):').split()]\n",
        "start_date=input('Enter the start date in yyyy-mm-dd format:')\n",
        "end_date=input('Enter the end date in yyyy-mm-dd format:')\n",
        "forecast_horizon=int(input('Enter number of days ahead that you want the projection: '))\n",
        "price_data=yf.download(tickers,start_date,end_date,auto_adjust=False)['Adj Close']\n",
        "snp=yf.download('^GSPC',start_date,end_date,auto_adjust=False)['Adj Close']\n",
        "price_data.dropna(axis=1, how='all', inplace=True)\n",
        "return_data=price_data.pct_change().dropna()\n",
        "tickers = price_data.columns.tolist()"
      ]
    },
    {
      "cell_type": "code",
      "source": [
        "#Analyzing residuals for best model to use\n",
        "from arch import arch_model\n",
        "from scipy.stats import skew, kurtosis\n",
        "import numpy as np\n",
        "import pandas as pd\n",
        "import matplotlib.pyplot as plt\n",
        "split_idx=int(len(return_data)*0.7)\n",
        "train_data=return_data.iloc[:split_idx]\n",
        "test_data=return_data.iloc[split_idx:]\n",
        "max_rolling_window = split_idx - forecast_horizon-1\n",
        "def residual_analyze(return_series):\n",
        "  model=arch_model(return_series,vol='GARCH',p=1,q=1,dist='normal', rescale=False)\n",
        "  result=model.fit(disp='off')\n",
        "  resid=result.resid\n",
        "  cond_vol=result.conditional_volatility\n",
        "  std_resid=resid/cond_vol\n",
        "  s=skew(std_resid)\n",
        "  k=kurtosis(std_resid,fisher=True)\n",
        "  return s, k, result\n",
        "rolling_window=int(input(f'Enter the rolling window size(has to be at most {max_rolling_window} ):'))\n",
        "rolling_weights=[]\n",
        "rolling_dates=[]\n",
        "rolling_returns=[]\n",
        "prev_weights=None\n",
        "turnovers=[]\n",
        "vol_forecast_log=[]\n",
        "fit_failures=0\n",
        "for i in range(split_idx,len(return_data)-forecast_horizon):\n",
        "  window_data=return_data.iloc[i-rolling_window:i]\n",
        "  vol_today={}\n",
        "  for ticker in tickers:\n",
        "    series=window_data[ticker]\n",
        "    s,k,_=residual_analyze(series)\n",
        "    if abs(s)>0.5 and k>3:\n",
        "      model=arch_model(series,vol='EGARCH',p=1,o=1,q=1,dist='skewt', rescale=False)\n",
        "    elif abs(s)>0.5:\n",
        "      model=arch_model(series,vol='EGARCH',p=1,o=1,q=1,dist='normal', rescale=False)\n",
        "    elif k>3:\n",
        "      model=arch_model(series,vol='GARCH',p=1,q=1,dist='t',rescale=False)\n",
        "    else:\n",
        "      model=arch_model(series,vol='GARCH',p=1,q=1,dist='normal', rescale=False)\n",
        "    try:\n",
        "      result=model.fit(disp='off', options={'maxiter':2000})\n",
        "      forecast=result.forecast(horizon=forecast_horizon)\n",
        "      variance_series = forecast.variance.iloc[-1,:forecast_horizon].mean()\n",
        "      vol_today[ticker] = np.sqrt(variance_series)\n",
        "\n",
        "    except Exception as e:\n",
        "      print(f'{ticker} failed to fit at index {i}, skipping it.')\n",
        "      vol_today[ticker]=np.nan\n",
        "      fit_failures+=1\n",
        "      continue\n",
        "  vol_series=pd.Series(vol_today).dropna()\n",
        "  vol_forecast_log.append((return_data.index[i+forecast_horizon],vol_series))\n",
        "  if vol_series.empty:\n",
        "    continue\n",
        "  inv_vol=1/vol_series\n",
        "  weights=inv_vol/inv_vol.sum()\n",
        "  weights=weights.reindex(tickers).fillna(0)\n",
        "  if weights[weights>0].count()<2:\n",
        "    continue\n",
        "  if prev_weights is not None:\n",
        "    turnover=np.sum(np.abs(weights-prev_weights))\n",
        "    turnovers.append(turnover)\n",
        "  prev_weights=weights\n",
        "  try:\n",
        "    future_return=return_data.iloc[i+forecast_horizon][tickers]\n",
        "    daily_returns=(future_return*weights).sum()\n",
        "    rolling_weights.append(weights)\n",
        "    rolling_dates.append(return_data.index[i+forecast_horizon])\n",
        "    rolling_returns.append(daily_returns)\n",
        "  except:\n",
        "    continue\n",
        "portfolio_returns=pd.Series(rolling_returns,index=rolling_dates)\n",
        "cumulative_returns=(1+portfolio_returns).cumprod()\n",
        "rf_daily=0.03/252\n",
        "excess_return=portfolio_returns-rf_daily\n",
        "trading_days=portfolio_returns.count()\n",
        "sharpe_ratio=excess_return.mean()/excess_return.std()*np.sqrt(trading_days)\n",
        "avg_turnover=np.mean(turnovers)\n",
        "\n",
        "print('Backtest Results: ')\n",
        "print(f'Annualized Sharpe Ratio: {sharpe_ratio:2f}')\n",
        "print(f'Average Turnover: {avg_turnover:2f}')\n",
        "snp_returns=snp.pct_change().dropna()\n",
        "snp_test=snp_returns.loc[portfolio_returns.index]\n",
        "snp_cum_test=(1+snp_test).cumprod()\n",
        "print(f'Total failures: {fit_failures}')\n",
        "import matplotlib.pyplot as plt\n",
        "plt.figure(figsize=(9,4))\n",
        "snp_cum_test.plot(label='S&P 500',linestyle='--')\n",
        "cumulative_returns.plot(label='GARCH Portfolio')\n",
        "plt.title('Cumulative return(Backtest Period)')\n",
        "plt.xlabel('Date')\n",
        "plt.ylabel('Cumulative Return')\n",
        "plt.legend()\n",
        "plt.show()\n"
      ],
      "metadata": {
        "colab": {
          "base_uri": "https://localhost:8080/",
          "height": 1000
        },
        "id": "dBAtV8JXzhPr",
        "outputId": "7de6e604-bdcd-470e-d4fe-2a92155da600"
      },
      "execution_count": 35,
      "outputs": [
        {
          "output_type": "stream",
          "name": "stdout",
          "text": [
            "Enter the rolling window size(has to be at most 216 ):216\n",
            "JPM failed to fit at index 232, skipping it.\n",
            "PG failed to fit at index 232, skipping it.\n"
          ]
        },
        {
          "output_type": "stream",
          "name": "stderr",
          "text": [
            "/usr/local/lib/python3.11/dist-packages/arch/univariate/base.py:768: ConvergenceWarning: The optimizer returned code 4. The message is:\n",
            "Inequality constraints incompatible\n",
            "See scipy.optimize.fmin_slsqp for code meaning.\n",
            "\n",
            "  warnings.warn(\n"
          ]
        },
        {
          "output_type": "stream",
          "name": "stdout",
          "text": [
            "UPS failed to fit at index 232, skipping it.\n"
          ]
        },
        {
          "output_type": "stream",
          "name": "stderr",
          "text": [
            "/usr/local/lib/python3.11/dist-packages/arch/univariate/base.py:768: ConvergenceWarning: The optimizer returned code 4. The message is:\n",
            "Inequality constraints incompatible\n",
            "See scipy.optimize.fmin_slsqp for code meaning.\n",
            "\n",
            "  warnings.warn(\n"
          ]
        },
        {
          "output_type": "stream",
          "name": "stdout",
          "text": [
            "JPM failed to fit at index 233, skipping it.\n",
            "PG failed to fit at index 233, skipping it.\n",
            "UPS failed to fit at index 233, skipping it.\n"
          ]
        },
        {
          "output_type": "stream",
          "name": "stderr",
          "text": [
            "/usr/local/lib/python3.11/dist-packages/arch/univariate/base.py:768: ConvergenceWarning: The optimizer returned code 4. The message is:\n",
            "Inequality constraints incompatible\n",
            "See scipy.optimize.fmin_slsqp for code meaning.\n",
            "\n",
            "  warnings.warn(\n"
          ]
        },
        {
          "output_type": "stream",
          "name": "stdout",
          "text": [
            "JPM failed to fit at index 234, skipping it.\n",
            "PG failed to fit at index 234, skipping it.\n",
            "UPS failed to fit at index 234, skipping it.\n",
            "JPM failed to fit at index 235, skipping it.\n",
            "PG failed to fit at index 235, skipping it.\n",
            "UPS failed to fit at index 235, skipping it.\n",
            "JPM failed to fit at index 236, skipping it.\n",
            "PG failed to fit at index 236, skipping it.\n"
          ]
        },
        {
          "output_type": "stream",
          "name": "stderr",
          "text": [
            "/usr/local/lib/python3.11/dist-packages/arch/univariate/base.py:768: ConvergenceWarning: The optimizer returned code 4. The message is:\n",
            "Inequality constraints incompatible\n",
            "See scipy.optimize.fmin_slsqp for code meaning.\n",
            "\n",
            "  warnings.warn(\n"
          ]
        },
        {
          "output_type": "stream",
          "name": "stdout",
          "text": [
            "UPS failed to fit at index 236, skipping it.\n"
          ]
        },
        {
          "output_type": "stream",
          "name": "stderr",
          "text": [
            "/usr/local/lib/python3.11/dist-packages/arch/univariate/base.py:768: ConvergenceWarning: The optimizer returned code 8. The message is:\n",
            "Positive directional derivative for linesearch\n",
            "See scipy.optimize.fmin_slsqp for code meaning.\n",
            "\n",
            "  warnings.warn(\n"
          ]
        },
        {
          "output_type": "stream",
          "name": "stdout",
          "text": [
            "JPM failed to fit at index 237, skipping it.\n",
            "PG failed to fit at index 237, skipping it.\n"
          ]
        },
        {
          "output_type": "stream",
          "name": "stderr",
          "text": [
            "/usr/local/lib/python3.11/dist-packages/arch/univariate/base.py:768: ConvergenceWarning: The optimizer returned code 4. The message is:\n",
            "Inequality constraints incompatible\n",
            "See scipy.optimize.fmin_slsqp for code meaning.\n",
            "\n",
            "  warnings.warn(\n"
          ]
        },
        {
          "output_type": "stream",
          "name": "stdout",
          "text": [
            "UPS failed to fit at index 237, skipping it.\n",
            "JPM failed to fit at index 238, skipping it.\n",
            "PG failed to fit at index 238, skipping it.\n",
            "UPS failed to fit at index 238, skipping it.\n",
            "JPM failed to fit at index 239, skipping it.\n",
            "PG failed to fit at index 239, skipping it.\n",
            "UPS failed to fit at index 239, skipping it.\n",
            "JPM failed to fit at index 240, skipping it.\n",
            "PG failed to fit at index 240, skipping it.\n",
            "UPS failed to fit at index 240, skipping it.\n",
            "JPM failed to fit at index 241, skipping it.\n",
            "PG failed to fit at index 241, skipping it.\n",
            "UPS failed to fit at index 241, skipping it.\n"
          ]
        },
        {
          "output_type": "stream",
          "name": "stderr",
          "text": [
            "/usr/local/lib/python3.11/dist-packages/arch/univariate/base.py:768: ConvergenceWarning: The optimizer returned code 4. The message is:\n",
            "Inequality constraints incompatible\n",
            "See scipy.optimize.fmin_slsqp for code meaning.\n",
            "\n",
            "  warnings.warn(\n",
            "/usr/local/lib/python3.11/dist-packages/arch/univariate/base.py:768: ConvergenceWarning: The optimizer returned code 4. The message is:\n",
            "Inequality constraints incompatible\n",
            "See scipy.optimize.fmin_slsqp for code meaning.\n",
            "\n",
            "  warnings.warn(\n"
          ]
        },
        {
          "output_type": "stream",
          "name": "stdout",
          "text": [
            "JPM failed to fit at index 242, skipping it.\n",
            "PG failed to fit at index 242, skipping it.\n"
          ]
        },
        {
          "output_type": "stream",
          "name": "stderr",
          "text": [
            "/usr/local/lib/python3.11/dist-packages/arch/univariate/base.py:768: ConvergenceWarning: The optimizer returned code 4. The message is:\n",
            "Inequality constraints incompatible\n",
            "See scipy.optimize.fmin_slsqp for code meaning.\n",
            "\n",
            "  warnings.warn(\n"
          ]
        },
        {
          "output_type": "stream",
          "name": "stdout",
          "text": [
            "UPS failed to fit at index 242, skipping it.\n",
            "JPM failed to fit at index 243, skipping it.\n",
            "PG failed to fit at index 243, skipping it.\n",
            "UPS failed to fit at index 243, skipping it.\n"
          ]
        },
        {
          "output_type": "stream",
          "name": "stderr",
          "text": [
            "/usr/local/lib/python3.11/dist-packages/arch/univariate/base.py:768: ConvergenceWarning: The optimizer returned code 4. The message is:\n",
            "Inequality constraints incompatible\n",
            "See scipy.optimize.fmin_slsqp for code meaning.\n",
            "\n",
            "  warnings.warn(\n"
          ]
        },
        {
          "output_type": "stream",
          "name": "stdout",
          "text": [
            "JPM failed to fit at index 244, skipping it.\n",
            "PG failed to fit at index 244, skipping it.\n",
            "UPS failed to fit at index 244, skipping it.\n",
            "JPM failed to fit at index 245, skipping it.\n",
            "PG failed to fit at index 245, skipping it.\n",
            "UPS failed to fit at index 245, skipping it.\n",
            "JPM failed to fit at index 246, skipping it.\n",
            "PG failed to fit at index 246, skipping it.\n",
            "UPS failed to fit at index 246, skipping it.\n"
          ]
        },
        {
          "output_type": "stream",
          "name": "stderr",
          "text": [
            "/usr/local/lib/python3.11/dist-packages/arch/univariate/base.py:768: ConvergenceWarning: The optimizer returned code 4. The message is:\n",
            "Inequality constraints incompatible\n",
            "See scipy.optimize.fmin_slsqp for code meaning.\n",
            "\n",
            "  warnings.warn(\n"
          ]
        },
        {
          "output_type": "stream",
          "name": "stdout",
          "text": [
            "JPM failed to fit at index 247, skipping it.\n",
            "PG failed to fit at index 247, skipping it.\n",
            "UPS failed to fit at index 247, skipping it.\n",
            "JPM failed to fit at index 248, skipping it.\n",
            "PG failed to fit at index 248, skipping it.\n",
            "UPS failed to fit at index 248, skipping it.\n",
            "JPM failed to fit at index 249, skipping it.\n",
            "PG failed to fit at index 249, skipping it.\n",
            "UPS failed to fit at index 249, skipping it.\n"
          ]
        },
        {
          "output_type": "stream",
          "name": "stderr",
          "text": [
            "/usr/local/lib/python3.11/dist-packages/arch/univariate/base.py:768: ConvergenceWarning: The optimizer returned code 4. The message is:\n",
            "Inequality constraints incompatible\n",
            "See scipy.optimize.fmin_slsqp for code meaning.\n",
            "\n",
            "  warnings.warn(\n"
          ]
        },
        {
          "output_type": "stream",
          "name": "stdout",
          "text": [
            "JPM failed to fit at index 250, skipping it.\n"
          ]
        },
        {
          "output_type": "stream",
          "name": "stderr",
          "text": [
            "/usr/local/lib/python3.11/dist-packages/arch/univariate/base.py:768: ConvergenceWarning: The optimizer returned code 4. The message is:\n",
            "Inequality constraints incompatible\n",
            "See scipy.optimize.fmin_slsqp for code meaning.\n",
            "\n",
            "  warnings.warn(\n"
          ]
        },
        {
          "output_type": "stream",
          "name": "stdout",
          "text": [
            "PG failed to fit at index 250, skipping it.\n",
            "UPS failed to fit at index 250, skipping it.\n",
            "JPM failed to fit at index 251, skipping it.\n",
            "PG failed to fit at index 251, skipping it.\n",
            "UPS failed to fit at index 251, skipping it.\n",
            "JPM failed to fit at index 252, skipping it.\n",
            "PG failed to fit at index 252, skipping it.\n",
            "UPS failed to fit at index 252, skipping it.\n",
            "JPM failed to fit at index 253, skipping it.\n",
            "PG failed to fit at index 253, skipping it.\n",
            "UPS failed to fit at index 253, skipping it.\n",
            "JPM failed to fit at index 254, skipping it.\n",
            "PG failed to fit at index 254, skipping it.\n",
            "UPS failed to fit at index 254, skipping it.\n",
            "JPM failed to fit at index 255, skipping it.\n",
            "PG failed to fit at index 255, skipping it.\n"
          ]
        },
        {
          "output_type": "stream",
          "name": "stderr",
          "text": [
            "/usr/local/lib/python3.11/dist-packages/arch/univariate/base.py:768: ConvergenceWarning: The optimizer returned code 4. The message is:\n",
            "Inequality constraints incompatible\n",
            "See scipy.optimize.fmin_slsqp for code meaning.\n",
            "\n",
            "  warnings.warn(\n",
            "/usr/local/lib/python3.11/dist-packages/arch/univariate/base.py:768: ConvergenceWarning: The optimizer returned code 4. The message is:\n",
            "Inequality constraints incompatible\n",
            "See scipy.optimize.fmin_slsqp for code meaning.\n",
            "\n",
            "  warnings.warn(\n"
          ]
        },
        {
          "output_type": "stream",
          "name": "stdout",
          "text": [
            "UPS failed to fit at index 255, skipping it.\n"
          ]
        },
        {
          "output_type": "stream",
          "name": "stderr",
          "text": [
            "/usr/local/lib/python3.11/dist-packages/arch/univariate/base.py:768: ConvergenceWarning: The optimizer returned code 8. The message is:\n",
            "Positive directional derivative for linesearch\n",
            "See scipy.optimize.fmin_slsqp for code meaning.\n",
            "\n",
            "  warnings.warn(\n",
            "/usr/local/lib/python3.11/dist-packages/arch/univariate/base.py:768: ConvergenceWarning: The optimizer returned code 4. The message is:\n",
            "Inequality constraints incompatible\n",
            "See scipy.optimize.fmin_slsqp for code meaning.\n",
            "\n",
            "  warnings.warn(\n"
          ]
        },
        {
          "output_type": "stream",
          "name": "stdout",
          "text": [
            "JPM failed to fit at index 256, skipping it.\n",
            "PG failed to fit at index 256, skipping it.\n",
            "UPS failed to fit at index 256, skipping it.\n"
          ]
        },
        {
          "output_type": "stream",
          "name": "stderr",
          "text": [
            "/usr/local/lib/python3.11/dist-packages/arch/univariate/base.py:768: ConvergenceWarning: The optimizer returned code 4. The message is:\n",
            "Inequality constraints incompatible\n",
            "See scipy.optimize.fmin_slsqp for code meaning.\n",
            "\n",
            "  warnings.warn(\n"
          ]
        },
        {
          "output_type": "stream",
          "name": "stdout",
          "text": [
            "JPM failed to fit at index 257, skipping it.\n",
            "PG failed to fit at index 257, skipping it.\n"
          ]
        },
        {
          "output_type": "stream",
          "name": "stderr",
          "text": [
            "/usr/local/lib/python3.11/dist-packages/arch/univariate/base.py:768: ConvergenceWarning: The optimizer returned code 4. The message is:\n",
            "Inequality constraints incompatible\n",
            "See scipy.optimize.fmin_slsqp for code meaning.\n",
            "\n",
            "  warnings.warn(\n",
            "/usr/local/lib/python3.11/dist-packages/arch/univariate/base.py:768: ConvergenceWarning: The optimizer returned code 4. The message is:\n",
            "Inequality constraints incompatible\n",
            "See scipy.optimize.fmin_slsqp for code meaning.\n",
            "\n",
            "  warnings.warn(\n"
          ]
        },
        {
          "output_type": "stream",
          "name": "stdout",
          "text": [
            "UPS failed to fit at index 257, skipping it.\n",
            "JPM failed to fit at index 258, skipping it.\n",
            "PG failed to fit at index 258, skipping it.\n",
            "UPS failed to fit at index 258, skipping it.\n",
            "JPM failed to fit at index 259, skipping it.\n",
            "PG failed to fit at index 259, skipping it.\n",
            "UPS failed to fit at index 259, skipping it.\n",
            "JPM failed to fit at index 260, skipping it.\n"
          ]
        },
        {
          "output_type": "stream",
          "name": "stderr",
          "text": [
            "/usr/local/lib/python3.11/dist-packages/arch/univariate/base.py:768: ConvergenceWarning: The optimizer returned code 4. The message is:\n",
            "Inequality constraints incompatible\n",
            "See scipy.optimize.fmin_slsqp for code meaning.\n",
            "\n",
            "  warnings.warn(\n"
          ]
        },
        {
          "output_type": "stream",
          "name": "stdout",
          "text": [
            "PG failed to fit at index 260, skipping it.\n",
            "UPS failed to fit at index 260, skipping it.\n",
            "JPM failed to fit at index 261, skipping it.\n",
            "PG failed to fit at index 261, skipping it.\n",
            "UPS failed to fit at index 261, skipping it.\n",
            "JPM failed to fit at index 262, skipping it.\n"
          ]
        },
        {
          "output_type": "stream",
          "name": "stderr",
          "text": [
            "/usr/local/lib/python3.11/dist-packages/arch/univariate/base.py:768: ConvergenceWarning: The optimizer returned code 4. The message is:\n",
            "Inequality constraints incompatible\n",
            "See scipy.optimize.fmin_slsqp for code meaning.\n",
            "\n",
            "  warnings.warn(\n",
            "/usr/local/lib/python3.11/dist-packages/arch/univariate/base.py:768: ConvergenceWarning: The optimizer returned code 4. The message is:\n",
            "Inequality constraints incompatible\n",
            "See scipy.optimize.fmin_slsqp for code meaning.\n",
            "\n",
            "  warnings.warn(\n"
          ]
        },
        {
          "output_type": "stream",
          "name": "stdout",
          "text": [
            "PG failed to fit at index 262, skipping it.\n",
            "UPS failed to fit at index 262, skipping it.\n",
            "JPM failed to fit at index 263, skipping it.\n",
            "PG failed to fit at index 263, skipping it.\n"
          ]
        },
        {
          "output_type": "stream",
          "name": "stderr",
          "text": [
            "/usr/local/lib/python3.11/dist-packages/arch/univariate/base.py:768: ConvergenceWarning: The optimizer returned code 4. The message is:\n",
            "Inequality constraints incompatible\n",
            "See scipy.optimize.fmin_slsqp for code meaning.\n",
            "\n",
            "  warnings.warn(\n"
          ]
        },
        {
          "output_type": "stream",
          "name": "stdout",
          "text": [
            "UPS failed to fit at index 263, skipping it.\n",
            "JPM failed to fit at index 264, skipping it.\n",
            "PG failed to fit at index 264, skipping it.\n",
            "UPS failed to fit at index 264, skipping it.\n",
            "JPM failed to fit at index 265, skipping it.\n",
            "PG failed to fit at index 265, skipping it.\n",
            "UPS failed to fit at index 265, skipping it.\n"
          ]
        },
        {
          "output_type": "stream",
          "name": "stderr",
          "text": [
            "/usr/local/lib/python3.11/dist-packages/arch/univariate/base.py:768: ConvergenceWarning: The optimizer returned code 4. The message is:\n",
            "Inequality constraints incompatible\n",
            "See scipy.optimize.fmin_slsqp for code meaning.\n",
            "\n",
            "  warnings.warn(\n",
            "/usr/local/lib/python3.11/dist-packages/arch/univariate/base.py:768: ConvergenceWarning: The optimizer returned code 4. The message is:\n",
            "Inequality constraints incompatible\n",
            "See scipy.optimize.fmin_slsqp for code meaning.\n",
            "\n",
            "  warnings.warn(\n"
          ]
        },
        {
          "output_type": "stream",
          "name": "stdout",
          "text": [
            "JPM failed to fit at index 266, skipping it.\n",
            "PG failed to fit at index 266, skipping it.\n"
          ]
        },
        {
          "output_type": "stream",
          "name": "stderr",
          "text": [
            "/usr/local/lib/python3.11/dist-packages/arch/univariate/base.py:768: ConvergenceWarning: The optimizer returned code 4. The message is:\n",
            "Inequality constraints incompatible\n",
            "See scipy.optimize.fmin_slsqp for code meaning.\n",
            "\n",
            "  warnings.warn(\n"
          ]
        },
        {
          "output_type": "stream",
          "name": "stdout",
          "text": [
            "UPS failed to fit at index 266, skipping it.\n",
            "JNJ failed to fit at index 267, skipping it.\n",
            "JPM failed to fit at index 267, skipping it.\n",
            "PG failed to fit at index 267, skipping it.\n",
            "UPS failed to fit at index 267, skipping it.\n"
          ]
        },
        {
          "output_type": "stream",
          "name": "stderr",
          "text": [
            "/usr/local/lib/python3.11/dist-packages/arch/univariate/base.py:768: ConvergenceWarning: The optimizer returned code 4. The message is:\n",
            "Inequality constraints incompatible\n",
            "See scipy.optimize.fmin_slsqp for code meaning.\n",
            "\n",
            "  warnings.warn(\n"
          ]
        },
        {
          "output_type": "stream",
          "name": "stdout",
          "text": [
            "JNJ failed to fit at index 268, skipping it.\n",
            "JPM failed to fit at index 268, skipping it.\n",
            "PG failed to fit at index 268, skipping it.\n",
            "UPS failed to fit at index 268, skipping it.\n",
            "JNJ failed to fit at index 269, skipping it.\n"
          ]
        },
        {
          "output_type": "stream",
          "name": "stderr",
          "text": [
            "/usr/local/lib/python3.11/dist-packages/arch/univariate/base.py:768: ConvergenceWarning: The optimizer returned code 8. The message is:\n",
            "Positive directional derivative for linesearch\n",
            "See scipy.optimize.fmin_slsqp for code meaning.\n",
            "\n",
            "  warnings.warn(\n"
          ]
        },
        {
          "output_type": "stream",
          "name": "stdout",
          "text": [
            "JPM failed to fit at index 269, skipping it.\n",
            "PG failed to fit at index 269, skipping it.\n"
          ]
        },
        {
          "output_type": "stream",
          "name": "stderr",
          "text": [
            "/usr/local/lib/python3.11/dist-packages/arch/univariate/base.py:768: ConvergenceWarning: The optimizer returned code 4. The message is:\n",
            "Inequality constraints incompatible\n",
            "See scipy.optimize.fmin_slsqp for code meaning.\n",
            "\n",
            "  warnings.warn(\n"
          ]
        },
        {
          "output_type": "stream",
          "name": "stdout",
          "text": [
            "UPS failed to fit at index 269, skipping it.\n",
            "JNJ failed to fit at index 270, skipping it.\n",
            "JPM failed to fit at index 270, skipping it.\n",
            "PG failed to fit at index 270, skipping it.\n",
            "UPS failed to fit at index 270, skipping it.\n",
            "JNJ failed to fit at index 271, skipping it.\n",
            "JPM failed to fit at index 271, skipping it.\n",
            "PG failed to fit at index 271, skipping it.\n",
            "UPS failed to fit at index 271, skipping it.\n",
            "JNJ failed to fit at index 272, skipping it.\n",
            "JPM failed to fit at index 272, skipping it.\n",
            "PG failed to fit at index 272, skipping it.\n",
            "UPS failed to fit at index 272, skipping it.\n",
            "JNJ failed to fit at index 273, skipping it.\n",
            "JPM failed to fit at index 273, skipping it.\n",
            "PG failed to fit at index 273, skipping it.\n",
            "UPS failed to fit at index 273, skipping it.\n",
            "JNJ failed to fit at index 274, skipping it.\n",
            "JPM failed to fit at index 274, skipping it.\n",
            "PG failed to fit at index 274, skipping it.\n",
            "UPS failed to fit at index 274, skipping it.\n",
            "JNJ failed to fit at index 275, skipping it.\n",
            "JPM failed to fit at index 275, skipping it.\n",
            "PG failed to fit at index 275, skipping it.\n",
            "UPS failed to fit at index 275, skipping it.\n",
            "JNJ failed to fit at index 276, skipping it.\n",
            "JPM failed to fit at index 276, skipping it.\n",
            "PG failed to fit at index 276, skipping it.\n"
          ]
        },
        {
          "output_type": "stream",
          "name": "stderr",
          "text": [
            "/usr/local/lib/python3.11/dist-packages/arch/univariate/base.py:768: ConvergenceWarning: The optimizer returned code 4. The message is:\n",
            "Inequality constraints incompatible\n",
            "See scipy.optimize.fmin_slsqp for code meaning.\n",
            "\n",
            "  warnings.warn(\n"
          ]
        },
        {
          "output_type": "stream",
          "name": "stdout",
          "text": [
            "UPS failed to fit at index 276, skipping it.\n",
            "JNJ failed to fit at index 277, skipping it.\n",
            "JPM failed to fit at index 277, skipping it.\n",
            "PG failed to fit at index 277, skipping it.\n",
            "UPS failed to fit at index 277, skipping it.\n",
            "JNJ failed to fit at index 278, skipping it.\n",
            "JPM failed to fit at index 278, skipping it.\n",
            "PG failed to fit at index 278, skipping it.\n",
            "UPS failed to fit at index 278, skipping it.\n",
            "JNJ failed to fit at index 279, skipping it.\n",
            "JPM failed to fit at index 279, skipping it.\n",
            "PG failed to fit at index 279, skipping it.\n",
            "UPS failed to fit at index 279, skipping it.\n",
            "JNJ failed to fit at index 280, skipping it.\n",
            "JPM failed to fit at index 280, skipping it.\n",
            "PG failed to fit at index 280, skipping it.\n",
            "UPS failed to fit at index 280, skipping it.\n",
            "JNJ failed to fit at index 281, skipping it.\n",
            "JPM failed to fit at index 281, skipping it.\n",
            "PG failed to fit at index 281, skipping it.\n",
            "UPS failed to fit at index 281, skipping it.\n",
            "JNJ failed to fit at index 282, skipping it.\n",
            "JPM failed to fit at index 282, skipping it.\n",
            "PG failed to fit at index 282, skipping it.\n",
            "UPS failed to fit at index 282, skipping it.\n",
            "JNJ failed to fit at index 283, skipping it.\n",
            "JPM failed to fit at index 283, skipping it.\n",
            "PG failed to fit at index 283, skipping it.\n",
            "UPS failed to fit at index 283, skipping it.\n",
            "JNJ failed to fit at index 284, skipping it.\n",
            "JPM failed to fit at index 284, skipping it.\n",
            "PG failed to fit at index 284, skipping it.\n",
            "UPS failed to fit at index 284, skipping it.\n",
            "JNJ failed to fit at index 285, skipping it.\n",
            "JPM failed to fit at index 285, skipping it.\n",
            "PG failed to fit at index 285, skipping it.\n",
            "UPS failed to fit at index 285, skipping it.\n",
            "JNJ failed to fit at index 286, skipping it.\n",
            "JPM failed to fit at index 286, skipping it.\n",
            "PG failed to fit at index 286, skipping it.\n"
          ]
        },
        {
          "output_type": "stream",
          "name": "stderr",
          "text": [
            "/usr/local/lib/python3.11/dist-packages/arch/univariate/base.py:768: ConvergenceWarning: The optimizer returned code 4. The message is:\n",
            "Inequality constraints incompatible\n",
            "See scipy.optimize.fmin_slsqp for code meaning.\n",
            "\n",
            "  warnings.warn(\n"
          ]
        },
        {
          "output_type": "stream",
          "name": "stdout",
          "text": [
            "UPS failed to fit at index 286, skipping it.\n",
            "JNJ failed to fit at index 287, skipping it.\n",
            "JPM failed to fit at index 287, skipping it.\n",
            "PG failed to fit at index 287, skipping it.\n",
            "UPS failed to fit at index 287, skipping it.\n",
            "JNJ failed to fit at index 288, skipping it.\n",
            "JPM failed to fit at index 288, skipping it.\n",
            "PG failed to fit at index 288, skipping it.\n",
            "UPS failed to fit at index 288, skipping it.\n",
            "JNJ failed to fit at index 289, skipping it.\n",
            "JPM failed to fit at index 289, skipping it.\n",
            "PG failed to fit at index 289, skipping it.\n",
            "UPS failed to fit at index 289, skipping it.\n",
            "JNJ failed to fit at index 290, skipping it.\n",
            "JPM failed to fit at index 290, skipping it.\n",
            "PG failed to fit at index 290, skipping it.\n",
            "UPS failed to fit at index 290, skipping it.\n"
          ]
        },
        {
          "output_type": "stream",
          "name": "stderr",
          "text": [
            "/usr/local/lib/python3.11/dist-packages/arch/univariate/base.py:768: ConvergenceWarning: The optimizer returned code 4. The message is:\n",
            "Inequality constraints incompatible\n",
            "See scipy.optimize.fmin_slsqp for code meaning.\n",
            "\n",
            "  warnings.warn(\n"
          ]
        },
        {
          "output_type": "stream",
          "name": "stdout",
          "text": [
            "JNJ failed to fit at index 291, skipping it.\n",
            "JPM failed to fit at index 291, skipping it.\n",
            "PG failed to fit at index 291, skipping it.\n",
            "UPS failed to fit at index 291, skipping it.\n",
            "JNJ failed to fit at index 292, skipping it.\n",
            "JPM failed to fit at index 292, skipping it.\n",
            "PG failed to fit at index 292, skipping it.\n",
            "UPS failed to fit at index 292, skipping it.\n",
            "JNJ failed to fit at index 293, skipping it.\n",
            "JPM failed to fit at index 293, skipping it.\n",
            "PG failed to fit at index 293, skipping it.\n",
            "UPS failed to fit at index 293, skipping it.\n"
          ]
        },
        {
          "output_type": "stream",
          "name": "stderr",
          "text": [
            "/usr/local/lib/python3.11/dist-packages/arch/univariate/base.py:768: ConvergenceWarning: The optimizer returned code 4. The message is:\n",
            "Inequality constraints incompatible\n",
            "See scipy.optimize.fmin_slsqp for code meaning.\n",
            "\n",
            "  warnings.warn(\n"
          ]
        },
        {
          "output_type": "stream",
          "name": "stdout",
          "text": [
            "JNJ failed to fit at index 294, skipping it.\n",
            "JPM failed to fit at index 294, skipping it.\n",
            "PG failed to fit at index 294, skipping it.\n",
            "UPS failed to fit at index 294, skipping it.\n"
          ]
        },
        {
          "output_type": "stream",
          "name": "stderr",
          "text": [
            "/usr/local/lib/python3.11/dist-packages/arch/univariate/base.py:768: ConvergenceWarning: The optimizer returned code 4. The message is:\n",
            "Inequality constraints incompatible\n",
            "See scipy.optimize.fmin_slsqp for code meaning.\n",
            "\n",
            "  warnings.warn(\n"
          ]
        },
        {
          "output_type": "stream",
          "name": "stdout",
          "text": [
            "JNJ failed to fit at index 295, skipping it.\n",
            "JPM failed to fit at index 295, skipping it.\n",
            "PG failed to fit at index 295, skipping it.\n",
            "UPS failed to fit at index 295, skipping it.\n",
            "GOOG failed to fit at index 296, skipping it.\n",
            "JPM failed to fit at index 296, skipping it.\n",
            "PG failed to fit at index 296, skipping it.\n",
            "UPS failed to fit at index 296, skipping it.\n",
            "GOOG failed to fit at index 297, skipping it.\n",
            "JPM failed to fit at index 297, skipping it.\n",
            "PG failed to fit at index 297, skipping it.\n",
            "UPS failed to fit at index 297, skipping it.\n",
            "GOOG failed to fit at index 298, skipping it.\n",
            "JPM failed to fit at index 298, skipping it.\n",
            "PG failed to fit at index 298, skipping it.\n",
            "UPS failed to fit at index 298, skipping it.\n"
          ]
        },
        {
          "output_type": "stream",
          "name": "stderr",
          "text": [
            "/usr/local/lib/python3.11/dist-packages/arch/univariate/base.py:768: ConvergenceWarning: The optimizer returned code 4. The message is:\n",
            "Inequality constraints incompatible\n",
            "See scipy.optimize.fmin_slsqp for code meaning.\n",
            "\n",
            "  warnings.warn(\n",
            "/usr/local/lib/python3.11/dist-packages/arch/univariate/base.py:768: ConvergenceWarning: The optimizer returned code 9. The message is:\n",
            "Iteration limit reached\n",
            "See scipy.optimize.fmin_slsqp for code meaning.\n",
            "\n",
            "  warnings.warn(\n"
          ]
        },
        {
          "output_type": "stream",
          "name": "stdout",
          "text": [
            "GOOG failed to fit at index 299, skipping it.\n",
            "JPM failed to fit at index 299, skipping it.\n"
          ]
        },
        {
          "output_type": "stream",
          "name": "stderr",
          "text": [
            "/usr/local/lib/python3.11/dist-packages/arch/univariate/base.py:768: ConvergenceWarning: The optimizer returned code 4. The message is:\n",
            "Inequality constraints incompatible\n",
            "See scipy.optimize.fmin_slsqp for code meaning.\n",
            "\n",
            "  warnings.warn(\n"
          ]
        },
        {
          "output_type": "stream",
          "name": "stdout",
          "text": [
            "PG failed to fit at index 299, skipping it.\n",
            "UPS failed to fit at index 299, skipping it.\n",
            "AMZN failed to fit at index 300, skipping it.\n",
            "GOOG failed to fit at index 300, skipping it.\n",
            "JPM failed to fit at index 300, skipping it.\n",
            "PG failed to fit at index 300, skipping it.\n",
            "UPS failed to fit at index 300, skipping it.\n",
            "GOOG failed to fit at index 301, skipping it.\n",
            "JPM failed to fit at index 301, skipping it.\n",
            "PG failed to fit at index 301, skipping it.\n",
            "UPS failed to fit at index 301, skipping it.\n",
            "JPM failed to fit at index 302, skipping it.\n",
            "PG failed to fit at index 302, skipping it.\n"
          ]
        },
        {
          "output_type": "stream",
          "name": "stderr",
          "text": [
            "/usr/local/lib/python3.11/dist-packages/arch/univariate/base.py:768: ConvergenceWarning: The optimizer returned code 4. The message is:\n",
            "Inequality constraints incompatible\n",
            "See scipy.optimize.fmin_slsqp for code meaning.\n",
            "\n",
            "  warnings.warn(\n"
          ]
        },
        {
          "output_type": "stream",
          "name": "stdout",
          "text": [
            "UPS failed to fit at index 302, skipping it.\n",
            "GOOG failed to fit at index 303, skipping it.\n",
            "JPM failed to fit at index 303, skipping it.\n",
            "PG failed to fit at index 303, skipping it.\n",
            "UPS failed to fit at index 303, skipping it.\n",
            "GOOG failed to fit at index 304, skipping it.\n",
            "JPM failed to fit at index 304, skipping it.\n",
            "PG failed to fit at index 304, skipping it.\n",
            "UPS failed to fit at index 304, skipping it.\n",
            "GOOG failed to fit at index 305, skipping it.\n",
            "JPM failed to fit at index 305, skipping it.\n",
            "PG failed to fit at index 305, skipping it.\n",
            "UPS failed to fit at index 305, skipping it.\n",
            "GOOG failed to fit at index 306, skipping it.\n",
            "JPM failed to fit at index 306, skipping it.\n",
            "PG failed to fit at index 306, skipping it.\n"
          ]
        },
        {
          "output_type": "stream",
          "name": "stderr",
          "text": [
            "/usr/local/lib/python3.11/dist-packages/arch/univariate/base.py:768: ConvergenceWarning: The optimizer returned code 4. The message is:\n",
            "Inequality constraints incompatible\n",
            "See scipy.optimize.fmin_slsqp for code meaning.\n",
            "\n",
            "  warnings.warn(\n"
          ]
        },
        {
          "output_type": "stream",
          "name": "stdout",
          "text": [
            "UPS failed to fit at index 306, skipping it.\n",
            "GOOG failed to fit at index 307, skipping it.\n",
            "JPM failed to fit at index 307, skipping it.\n",
            "PG failed to fit at index 307, skipping it.\n",
            "UPS failed to fit at index 307, skipping it.\n"
          ]
        },
        {
          "output_type": "stream",
          "name": "stderr",
          "text": [
            "/usr/local/lib/python3.11/dist-packages/arch/univariate/base.py:768: ConvergenceWarning: The optimizer returned code 4. The message is:\n",
            "Inequality constraints incompatible\n",
            "See scipy.optimize.fmin_slsqp for code meaning.\n",
            "\n",
            "  warnings.warn(\n"
          ]
        },
        {
          "output_type": "stream",
          "name": "stdout",
          "text": [
            "GOOG failed to fit at index 308, skipping it.\n",
            "JPM failed to fit at index 308, skipping it.\n",
            "PG failed to fit at index 308, skipping it.\n"
          ]
        },
        {
          "output_type": "stream",
          "name": "stderr",
          "text": [
            "/usr/local/lib/python3.11/dist-packages/arch/univariate/base.py:768: ConvergenceWarning: The optimizer returned code 4. The message is:\n",
            "Inequality constraints incompatible\n",
            "See scipy.optimize.fmin_slsqp for code meaning.\n",
            "\n",
            "  warnings.warn(\n"
          ]
        },
        {
          "output_type": "stream",
          "name": "stdout",
          "text": [
            "UPS failed to fit at index 308, skipping it.\n",
            "JPM failed to fit at index 309, skipping it.\n",
            "PG failed to fit at index 309, skipping it.\n",
            "UPS failed to fit at index 309, skipping it.\n",
            "GOOG failed to fit at index 310, skipping it.\n"
          ]
        },
        {
          "output_type": "stream",
          "name": "stderr",
          "text": [
            "/usr/local/lib/python3.11/dist-packages/arch/univariate/base.py:768: ConvergenceWarning: The optimizer returned code 4. The message is:\n",
            "Inequality constraints incompatible\n",
            "See scipy.optimize.fmin_slsqp for code meaning.\n",
            "\n",
            "  warnings.warn(\n"
          ]
        },
        {
          "output_type": "stream",
          "name": "stdout",
          "text": [
            "JPM failed to fit at index 310, skipping it.\n",
            "PG failed to fit at index 310, skipping it.\n",
            "UPS failed to fit at index 310, skipping it.\n",
            "GOOG failed to fit at index 311, skipping it.\n",
            "JPM failed to fit at index 311, skipping it.\n",
            "PG failed to fit at index 311, skipping it.\n",
            "UPS failed to fit at index 311, skipping it.\n",
            "AMZN failed to fit at index 312, skipping it.\n",
            "GOOG failed to fit at index 312, skipping it.\n",
            "JPM failed to fit at index 312, skipping it.\n",
            "PG failed to fit at index 312, skipping it.\n",
            "UPS failed to fit at index 312, skipping it.\n",
            "JNJ failed to fit at index 313, skipping it.\n",
            "JPM failed to fit at index 313, skipping it.\n",
            "PG failed to fit at index 313, skipping it.\n",
            "UPS failed to fit at index 313, skipping it.\n",
            "AAPL failed to fit at index 314, skipping it.\n",
            "AMZN failed to fit at index 314, skipping it.\n",
            "GOOG failed to fit at index 314, skipping it.\n",
            "JNJ failed to fit at index 314, skipping it.\n",
            "JPM failed to fit at index 314, skipping it.\n",
            "PG failed to fit at index 314, skipping it.\n",
            "UPS failed to fit at index 314, skipping it.\n",
            "AAPL failed to fit at index 315, skipping it.\n",
            "AMZN failed to fit at index 315, skipping it.\n",
            "GOOG failed to fit at index 315, skipping it.\n",
            "JNJ failed to fit at index 315, skipping it.\n"
          ]
        },
        {
          "output_type": "stream",
          "name": "stderr",
          "text": [
            "/usr/local/lib/python3.11/dist-packages/arch/univariate/base.py:768: ConvergenceWarning: The optimizer returned code 4. The message is:\n",
            "Inequality constraints incompatible\n",
            "See scipy.optimize.fmin_slsqp for code meaning.\n",
            "\n",
            "  warnings.warn(\n"
          ]
        },
        {
          "output_type": "stream",
          "name": "stdout",
          "text": [
            "JPM failed to fit at index 315, skipping it.\n",
            "PG failed to fit at index 315, skipping it.\n"
          ]
        },
        {
          "output_type": "stream",
          "name": "stderr",
          "text": [
            "/usr/local/lib/python3.11/dist-packages/arch/univariate/base.py:768: ConvergenceWarning: The optimizer returned code 4. The message is:\n",
            "Inequality constraints incompatible\n",
            "See scipy.optimize.fmin_slsqp for code meaning.\n",
            "\n",
            "  warnings.warn(\n"
          ]
        },
        {
          "output_type": "stream",
          "name": "stdout",
          "text": [
            "UPS failed to fit at index 315, skipping it.\n",
            "XOM failed to fit at index 315, skipping it.\n",
            "AAPL failed to fit at index 316, skipping it.\n",
            "AMZN failed to fit at index 316, skipping it.\n",
            "GOOG failed to fit at index 316, skipping it.\n",
            "JNJ failed to fit at index 316, skipping it.\n",
            "JPM failed to fit at index 316, skipping it.\n"
          ]
        },
        {
          "output_type": "stream",
          "name": "stderr",
          "text": [
            "/usr/local/lib/python3.11/dist-packages/arch/univariate/base.py:768: ConvergenceWarning: The optimizer returned code 4. The message is:\n",
            "Inequality constraints incompatible\n",
            "See scipy.optimize.fmin_slsqp for code meaning.\n",
            "\n",
            "  warnings.warn(\n"
          ]
        },
        {
          "output_type": "stream",
          "name": "stdout",
          "text": [
            "PG failed to fit at index 316, skipping it.\n",
            "UPS failed to fit at index 316, skipping it.\n",
            "XOM failed to fit at index 316, skipping it.\n",
            "Backtest Results: \n",
            "Annualized Sharpe Ratio: -0.827351\n",
            "Average Turnover: 0.153990\n",
            "Total failures: 316\n"
          ]
        },
        {
          "output_type": "stream",
          "name": "stderr",
          "text": [
            "/usr/local/lib/python3.11/dist-packages/arch/univariate/base.py:768: ConvergenceWarning: The optimizer returned code 4. The message is:\n",
            "Inequality constraints incompatible\n",
            "See scipy.optimize.fmin_slsqp for code meaning.\n",
            "\n",
            "  warnings.warn(\n"
          ]
        },
        {
          "output_type": "display_data",
          "data": {
            "text/plain": [
              "<Figure size 900x400 with 0 Axes>"
            ]
          },
          "metadata": {}
        },
        {
          "output_type": "display_data",
          "data": {
            "text/plain": [
              "<Figure size 640x480 with 1 Axes>"
            ],
            "image/png": "[encoded data removed]"
          },
          "metadata": {}
        }
      ]
    },
    {
      "cell_type": "code",
      "source": [],
      "metadata": {
        "id": "aaUTV4l1JIiU"
      },
      "execution_count": null,
      "outputs": []
    }
  ]
}