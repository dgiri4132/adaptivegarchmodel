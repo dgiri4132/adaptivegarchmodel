{
  "nbformat": 4,
  "nbformat_minor": 0,
  "metadata": {
    "colab": {
      "provenance": [],
      "authorship_tag": "ABX9TyPEtRMhOE+OX2efUcdKbHIc",
      "include_colab_link": true
    },
    "kernelspec": {
      "name": "python3",
      "display_name": "Python 3"
    },
    "language_info": {
      "name": "python"
    }
  },
  "cells": [
    {
      "cell_type": "markdown",
      "metadata": {
        "id": "view-in-github",
        "colab_type": "text"
      },
      "source": [
        "<a href=\"https://colab.research.google.com/github/dgiri4132/adaptivegarchmodel/blob/main/adaptivegarchmodel.ipynb\" target=\"_parent\"><img src=\"https://colab.research.google.com/assets/colab-badge.svg\" alt=\"Open In Colab\"/></a>"
      ]
    },
    {
      "cell_type": "code",
      "source": [
        "!pip install arch\n"
      ],
      "metadata": {
        "colab": {
          "base_uri": "https://localhost:8080/"
        },
        "id": "h_DtkrvKz5pz",
        "outputId": "3efde475-30b0-431a-d813-c3dd60f8c281"
      },
      "execution_count": 14,
      "outputs": [
        {
          "output_type": "stream",
          "name": "stdout",
          "text": [
            "Requirement already satisfied: arch in /usr/local/lib/python3.11/dist-packages (7.2.0)\n",
            "Requirement already satisfied: numpy>=1.22.3 in /usr/local/lib/python3.11/dist-packages (from arch) (2.0.2)\n",
            "Requirement already satisfied: scipy>=1.8 in /usr/local/lib/python3.11/dist-packages (from arch) (1.15.3)\n",
            "Requirement already satisfied: pandas>=1.4 in /usr/local/lib/python3.11/dist-packages (from arch) (2.2.2)\n",
            "Requirement already satisfied: statsmodels>=0.12 in /usr/local/lib/python3.11/dist-packages (from arch) (0.14.4)\n",
            "Requirement already satisfied: python-dateutil>=2.8.2 in /usr/local/lib/python3.11/dist-packages (from pandas>=1.4->arch) (2.9.0.post0)\n",
            "Requirement already satisfied: pytz>=2020.1 in /usr/local/lib/python3.11/dist-packages (from pandas>=1.4->arch) (2025.2)\n",
            "Requirement already satisfied: tzdata>=2022.7 in /usr/local/lib/python3.11/dist-packages (from pandas>=1.4->arch) (2025.2)\n",
            "Requirement already satisfied: patsy>=0.5.6 in /usr/local/lib/python3.11/dist-packages (from statsmodels>=0.12->arch) (1.0.1)\n",
            "Requirement already satisfied: packaging>=21.3 in /usr/local/lib/python3.11/dist-packages (from statsmodels>=0.12->arch) (24.2)\n",
            "Requirement already satisfied: six>=1.5 in /usr/local/lib/python3.11/dist-packages (from python-dateutil>=2.8.2->pandas>=1.4->arch) (1.17.0)\n"
          ]
        }
      ]
    },
    {
      "cell_type": "code",
      "execution_count": 15,
      "metadata": {
        "id": "AziRpBN7R56r",
        "colab": {
          "base_uri": "https://localhost:8080/"
        },
        "outputId": "3ab276f2-8bdf-4c2c-e582-24667ebfbdd1"
      },
      "outputs": [
        {
          "name": "stdout",
          "output_type": "stream",
          "text": [
            "Enter Stocks tickers(separated by space like aapl msft tsla):aapl\n",
            "Enter the start date in yyyy-mm-dd format:2023-01-01\n",
            "Enter the end date in yyyy-mm-dd format:2025-01-01\n",
            "Enter number of days ahead that you want the projection: 10\n"
          ]
        },
        {
          "output_type": "stream",
          "name": "stderr",
          "text": [
            "\r[*********************100%***********************]  1 of 1 completed\n"
          ]
        }
      ],
      "source": [
        "import yfinance as yf\n",
        "import pandas as pd\n",
        "tickers=[t.upper() for t in input('Enter Stocks tickers(separated by space like aapl msft tsla):').split()]\n",
        "start_date=input('Enter the start date in yyyy-mm-dd format:')\n",
        "end_date=input('Enter the end date in yyyy-mm-dd format:')\n",
        "forecast_horizon=int(input('Enter number of days ahead that you want the projection: '))\n",
        "price_data=yf.download(tickers,start_date,end_date,auto_adjust=False)['Adj Close']\n",
        "return_data=price_data.pct_change().dropna()*100\n"
      ]
    },
    {
      "cell_type": "code",
      "source": [
        "#Analyzing residuals for best model to use\n",
        "from arch import arch_model\n",
        "from scipy.stats import skew, kurtosis\n",
        "import numpy as np\n",
        "import pandas as pd\n",
        "def residual_analyze(return_series):\n",
        "  model=arch_model(return_series,vol='GARCH',p=1,q=1,dist='normal')\n",
        "  result=model.fit(disp='off')\n",
        "  resid=result.resid\n",
        "  cond_vol=result.conditional_volatility\n",
        "  std_resid=resid/cond_vol\n",
        "  s=skew(std_resid)\n",
        "  k=kurtosis(std_resid,fisher=True)\n",
        "  return s, k, result\n",
        "model_results={}\n",
        "vol_forecasts={}\n",
        "for ticker in tickers:\n",
        "  print(f'Analyzing {ticker}')\n",
        "  s,k,_=residual_analyze(return_data[ticker])\n",
        "  print(f'Skewness: {s:.3f}')\n",
        "  print(f'Kurtosis: {k:.3f}')\n",
        "  series=return_data[ticker]\n",
        "  if abs(s)>0.5 and k>3:\n",
        "    print('As both asymmetry and fat tails has been detected, we will be running EGARCH model with skewed t distribution')\n",
        "    model=arch_model(series,vol='EGARCH',p=1,o=1,q=1,dist='skewt')\n",
        "  elif abs(s)>0.5:\n",
        "    print('only asymmetry has been detected, we will be running EGARCH with normal distribution')\n",
        "    model=arch_model(series,vol='EGARCH',p=1,o=1,q=1,dist='normal')\n",
        "  elif k>3:\n",
        "    print('Only fat tails have been detected, we will be running GARCH with t-distribution.')\n",
        "    model= arch_model(series,vol='GARCH',p=1,q=1,dist='t')\n",
        "  else:\n",
        "    print('Residuals look normal(no fat tails or skew), running GARCH with normal distribution.')\n",
        "    model=arch_model(series,vol='GARCH',p=1,q=1,dist='normal')\n",
        "  result=model.fit(disp='off')\n",
        "  forecast=result.forecast(horizon=forecast_horizon)\n",
        "  last_forecast=forecast.variance.iloc[-1]\n",
        "  last_std=last_forecast.apply(np.sqrt)\n",
        "  print(f'Forecasted standard deviation for next {forecast_horizon} day(s):')\n",
        "  model_results[ticker]=result\n",
        "  vol_forecasts[ticker]=last_std\n",
        "vol_df=pd.DataFrame(vol_forecasts)\n",
        "print(vol_df.round(4))"
      ],
      "metadata": {
        "colab": {
          "base_uri": "https://localhost:8080/"
        },
        "id": "dBAtV8JXzhPr",
        "outputId": "3e53acd6-b540-4cc9-f4de-23118301d826"
      },
      "execution_count": 26,
      "outputs": [
        {
          "output_type": "stream",
          "name": "stdout",
          "text": [
            "Analyzing AAPL\n",
            "Skewness: 0.152\n",
            "Kurtosis: 2.391\n",
            "Residuals look normal(no fat tails or skew), running GARCH with normal distribution.\n",
            "Forecasted standard deviation for next 10 day(s):\n",
            "        AAPL\n",
            "h.01  1.3009\n",
            "h.02  1.3448\n",
            "h.03  1.3501\n",
            "h.04  1.3508\n",
            "h.05  1.3508\n",
            "h.06  1.3509\n",
            "h.07  1.3509\n",
            "h.08  1.3509\n",
            "h.09  1.3509\n",
            "h.10  1.3509\n"
          ]
        }
      ]
    }
  ]
}